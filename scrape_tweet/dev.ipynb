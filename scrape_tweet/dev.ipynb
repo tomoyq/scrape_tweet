{
 "cells": [
  {
   "cell_type": "code",
   "execution_count": 43,
   "metadata": {},
   "outputs": [],
   "source": [
    "from selenium import webdriver\n",
    "from selenium.webdriver.common.keys import Keys\n",
    "from selenium.webdriver.common.by import By\n",
    "from selenium.webdriver.support.ui import WebDriverWait\n",
    "from selenium.webdriver.support import expected_conditions as EC\n",
    "from selenium.webdriver.chrome.options import Options\n",
    "from selenium.common.exceptions import NoSuchElementException\n",
    "from dateutil.relativedelta import relativedelta\n",
    "import clipboard\n",
    "import datetime\n",
    "import os\n",
    "import pickle\n",
    "import pyperclip\n",
    "import time"
   ]
  },
  {
   "cell_type": "code",
   "execution_count": 3,
   "metadata": {},
   "outputs": [],
   "source": [
    "USER_AGENT = 'Mozilla/5.0 (Macintosh; Intel Mac OS X 10_15_7) AppleWebKit/537.36 (KHTML, like Gecko) Chrome/116.0.0.0 Safari/537.36'\n",
    "LOGIN_URL = 'https://x.com/login'\n",
    "\n",
    "# Chromeオプションの設定\n",
    "chrome_options = Options()\n",
    "chrome_options.add_argument('--disable-popup-blocking')  # ポップアップブロック\n",
    "chrome_options.add_argument('--headless')\n",
    "chrome_options.add_argument('--no-sandbox')\n",
    "chrome_options.add_argument('--user-agent=%s' % USER_AGENT)\n",
    "chrome_options.add_argument('--window-size=1920,1080')"
   ]
  },
  {
   "cell_type": "code",
   "execution_count": 8,
   "metadata": {},
   "outputs": [],
   "source": [
    "def login():\n",
    "    global LOGIN_URL\n",
    "\n",
    "    username = input('usernameを入力してください:')\n",
    "    password = input('passwordを入力してください:')\n",
    "\n",
    "    driver = webdriver.Chrome(options=chrome_options)\n",
    "\n",
    "    #xのログイン画面にアクセス\n",
    "    driver.get(LOGIN_URL)\n",
    "\n",
    "    #名前入力画面が出現するまでロードを待つ\n",
    "    print('入力画面待機中です')\n",
    "    try:\n",
    "        WebDriverWait(driver, 30).until(\n",
    "            EC.element_to_be_clickable((By.TAG_NAME, 'input'))\n",
    "        ).send_keys(f'{username}')\n",
    "        driver.find_element(By.XPATH, '//button[2]').click()\n",
    "    except Exception:\n",
    "        print('入力画面をロード中にエラーが発生しました')\n",
    "        driver.save_screenshot('username-input-connection-errors.png')\n",
    "\n",
    "    #メールアドレス確認画面が出現するまでロードを待つ\n",
    "    print('メールアドレス確認画面待機中です')\n",
    "    try:\n",
    "        mailadress_input = WebDriverWait(driver, 30).until(\n",
    "            EC.element_to_be_clickable((By.TAG_NAME, 'input'))\n",
    "        )\n",
    "        mailadress = input('メールアドレスを入力してください：')\n",
    "        mailadress_input.send_keys(mailadress)\n",
    "        mailadress_input.send_keys(Keys.ENTER)\n",
    "    except Exception:\n",
    "        print('パスワード画面に遷移します')\n",
    "        pass\n",
    "\n",
    "    #パスワード入力画面が出現するまでロードを待つ\n",
    "    print('パスワード画面待機中です')\n",
    "    try:\n",
    "        password_input = WebDriverWait(driver, 30).until(\n",
    "            EC.element_to_be_clickable((By.NAME, 'password'))\n",
    "        )\n",
    "        password_input.send_keys(f'{password}')\n",
    "        password_input.send_keys(Keys.ENTER)\n",
    "    except Exception:\n",
    "        print('パスワード画面をロード中にエラーが発生しました')\n",
    "        driver.save_screenshot('password-connection-errors.png')\n",
    "\n",
    "    #cookieを取得して保存する\n",
    "    time.sleep(10)\n",
    "    cookies = driver.get_cookies()\n",
    "\n",
    "    with open('cookies', 'wb') as f:\n",
    "        pickle.dump(cookies, f)\n",
    "\n",
    "    print('ログインしました')\n",
    "    driver.quit()"
   ]
  },
  {
   "cell_type": "code",
   "execution_count": 100,
   "metadata": {},
   "outputs": [],
   "source": [
    "def connect_X(driver, url):\n",
    "    global cookies\n",
    "\n",
    "    #xのアカウント画面にアクセス\n",
    "    driver.get(url)\n",
    "\n",
    "    #cookieを設定して再度アクセス\n",
    "    for c in cookies:\n",
    "        driver.add_cookie(c)\n",
    "    driver.get(url)\n",
    "\n",
    "    #投稿内容が出現するまでロードを待つ\n",
    "    print('待機中です')\n",
    "    try:\n",
    "        wait = WebDriverWait(driver, 30)\n",
    "        wait.until(EC.presence_of_all_elements_located)\n",
    "    except Exception:\n",
    "        print('ロード中にエラーが発生しました')\n",
    "        driver.save_screenshot('connection-errors.png')\n",
    "    \n",
    "    #body要素を取得\n",
    "    body = driver.find_element(By.ID, 'react-root')\n",
    "\n",
    "    return body"
   ]
  },
  {
   "cell_type": "code",
   "execution_count": 79,
   "metadata": {},
   "outputs": [],
   "source": [
    "def get_tweet_id(driver, dom):\n",
    "    driver.set_permissions('clipboard-write', 'granted')\n",
    "    driver.set_permissions('clipboard-read', 'granted')\n",
    "\n",
    "    #リンクをコピーする\n",
    "    dom.find_elements(By.TAG_NAME, 'button')[-1].click()\n",
    "    time.sleep(0.1)\n",
    "    driver.find_elements(By.CSS_SELECTOR, \"[role='menuitem']\")[0].click()\n",
    "    time.sleep(1)S\n",
    "    \n",
    "    #コピーしたリンクを返す\n",
    "    link = pyperclip.paste()\n",
    "    return link"
   ]
  },
  {
   "cell_type": "code",
   "execution_count": 99,
   "metadata": {},
   "outputs": [],
   "source": [
    "def fetch_posts(driver, url, i: int = 1):\n",
    "    global target_date\n",
    "\n",
    "    body = connect_X(driver, url)\n",
    "    \n",
    "    post_list = []\n",
    "\n",
    "    #スクロールさせる幅(初めは0)\n",
    "    y = 0\n",
    "\n",
    "    #今日の日付からdateで渡された日数分の投稿を取得\n",
    "    while True:\n",
    "        print(f'index:{i} の投稿を取得します')\n",
    "\n",
    "        #投稿の中に埋め込まれているtimeタグを取得\n",
    "        try:\n",
    "            WebDriverWait(driver, 20).until(\n",
    "                    EC.presence_of_element_located((By.XPATH, f'//section/div/div/div[{i}]'))\n",
    "                )\n",
    "            post_dom = body.find_element(By.XPATH, f'//section/div/div/div[{i}]')\n",
    "            post_text = post_dom.text.splitlines()\n",
    "        \n",
    "        #取得できない場合はスクロールを行なってdom上に表示させる\n",
    "        except Exception:\n",
    "            print(f'index:{i} の投稿はdom上に存在しません')\n",
    "\n",
    "            #スクロール先のy座標(1投稿が縦530px)\n",
    "            y += 530\n",
    "            print(y)\n",
    "            # スクロールして投稿を読み込むまで待機\n",
    "            driver.execute_script(f'window.scrollTo(0, {y});') \n",
    "            \n",
    "            try:\n",
    "                print('投稿を読み込んでいます')\n",
    "                WebDriverWait(driver, 20).until(\n",
    "                    EC.presence_of_element_located((By.XPATH, f'//section/div/div/div[{i}]'))\n",
    "                )\n",
    "            except NoSuchElementException:\n",
    "                driver.save_screenshot('NoSuchContent.png')\n",
    "\n",
    "            continue\n",
    "\n",
    "        #投稿の中のtimeタグを取得してtarget_dateよりも新しい日付か確認する\n",
    "        try:\n",
    "            time = post_dom.find_element(By.TAG_NAME, 'time').get_attribute('datetime')\n",
    "            \n",
    "            s_format = '%Y-%m-%dT%H:%M:%S.000Z'\n",
    "            dt_time = datetime.datetime.strptime(time, s_format)\n",
    "\n",
    "        #取得できない場合は投稿以外の要素を取得しているためループを回す\n",
    "        except:\n",
    "            i += 1\n",
    "            continue\n",
    "\n",
    "        #ピン留された投稿の場合はループを回す\n",
    "        if post_text[0] == 'Pinned':\n",
    "            i += 1\n",
    "            continue\n",
    "        #新しい投稿の場合はpost_listに内容を追加する\n",
    "        elif target_date < dt_time:\n",
    "            get_tweet_id(driver, post_dom)\n",
    "\n",
    "            post_list.append(post_text)\n",
    "            driver.close()\n",
    "            break\n",
    "            # i += 1\n",
    "            # continue\n",
    "        #投稿は日付順になっており、target_dateよりも古い場合これ以上新しい投稿はないと判断してループから抜ける\n",
    "        else:\n",
    "            driver.close()\n",
    "            break\n",
    "            \n",
    "    return post_list"
   ]
  },
  {
   "cell_type": "code",
   "execution_count": 11,
   "metadata": {},
   "outputs": [],
   "source": [
    "def calculate_target_date(mode: str, number_of_date: str):\n",
    "    try:\n",
    "        int_number_of_date = int(number_of_date)\n",
    "    except:\n",
    "        #入力された日数が数字でないためエラー発生\n",
    "        #再度入力をもらい再帰実行\n",
    "        mode, period = input('''入力をやり直してください。\\n\n",
    "                             遡る期間数は数字で入力してください。:''').split()\n",
    "        calculate_target_date(mode, period)\n",
    "\n",
    "    today = datetime.datetime.today()\n",
    "    \n",
    "    match mode:\n",
    "        #日数で遡る\n",
    "        case 'd' | 'D':\n",
    "            target_date = today - datetime.timedelta(days=int_number_of_date)\n",
    "            return target_date\n",
    "        \n",
    "        #週数で遡る\n",
    "        case 'w' | 'W':\n",
    "            target_date = today - datetime.timedelta(weeks=int_number_of_date)\n",
    "            return target_date\n",
    "        \n",
    "        #月数で遡る\n",
    "        case 'm' | 'M':\n",
    "            target_date = today - relativedelta(months=int_number_of_date)\n",
    "            return target_date\n",
    "        \n",
    "        #いずれの文字にもマッチしない場合は再度入力を受け取る\n",
    "        case _:\n",
    "            mode, period = input('''入力をやり直してください。\\n\n",
    "                             遡る間隔は日数(D)、週数(W)、月数(M)から選び、アルファベットで入力してください:''').split()\n",
    "            calculate_target_date(mode, period)"
   ]
  },
  {
   "cell_type": "code",
   "execution_count": 4,
   "metadata": {},
   "outputs": [],
   "source": [
    "#cookiesファイルがなければログイン関数を実行してcookieを取得する\n",
    "if os.path.isfile('cookies') != True:\n",
    "    cookies = login()\n",
    "#ファイルがあればcookieを読み込む\n",
    "else:\n",
    "    with open ('cookies', 'rb') as f:\n",
    "        cookies = pickle.load(f)"
   ]
  },
  {
   "cell_type": "code",
   "execution_count": 97,
   "metadata": {},
   "outputs": [],
   "source": [
    "driver = webdriver.Chrome(options=chrome_options)\n",
    "driver.execute_script('const newProto = navigator.__proto__;delete newProto.webdriver;navigator.__proto__ = newProto;')\n",
    "\n",
    "# 指定した要素が見つかるまでの待ち時間を設定する 今回は最大10秒待機する\n",
    "driver.implicitly_wait(10)\n",
    "\n",
    "#検索するアカウント\n",
    "target = 'HAL_Laboratory'\n",
    "\n",
    "url = f'https://x.com/{target}/'"
   ]
  },
  {
   "cell_type": "code",
   "execution_count": 98,
   "metadata": {},
   "outputs": [],
   "source": [
    "mode, period = input('''遡る間隔と遡る期間数を入力してください。\\n\n",
    "                     間隔は日数(D)、週数(W)、月数(M)で遡ることができます。\\n\n",
    "                     入力例(日数で遡って、最新から2日前までの投稿を取得する場合):D 2''').split()    \n",
    "\n",
    "target_date = calculate_target_date(mode, period)\n",
    "post_list = fetch_posts(driver, url)"
   ]
  },
  {
   "cell_type": "code",
   "execution_count": 92,
   "metadata": {},
   "outputs": [
    {
     "data": {
      "text/plain": [
       "['株式会社ハル研究所\\n@HAL_Laboratory\\n·\\n8h\\n＼ハル研ブログ\\u3000新記事掲載！／\\n\\n新人研修を振り返ってシリーズ第2弾！\\n今回はデザイナーの新人が、技術研修とグループワーク研修の内容や、社内の雰囲気を紹介しています。ぜひご覧ください。\\nハル研究所ウェブサイト｜HAL Laboratory, Inc.\\nFrom hallab.co.jp\\n30\\n202\\n14K',\n",
       " '株式会社ハル研究所 reposted\\n星のカービィ\\n@Kirby_JP\\n·\\nJul 11\\nNintendo Switch Online加入者限定のスマートフォンアプリ『Nintendo Music』に、プレイリスト「夏に聴きたい」が追加されました。\\nカービィシリーズからは、「リーフリゾート」や「泳げ！ひろびろビーチ」といった数曲をお楽しみいただけます。\\nhttps://nintendo.com/jp/nintendo-music/index.html…\\n4\\n685\\n2.9K\\n128K',\n",
       " '株式会社ハル研究所\\n@HAL_Laboratory\\n·\\nJul 9\\n＼ハル研ブログ\\u3000新記事掲載！／\\n\\n4月に入社した新人たちも、7月にいよいよ配属となりました。\\n今日はプログラマーの新人が約3か月間の新人研修を振り返り、研修の内容やそこで学んだことをご紹介。ぜひご覧ください。\\nハル研究所ウェブサイト｜HAL Laboratory, Inc.\\nFrom hallab.co.jp\\n68\\n572\\n36K',\n",
       " '株式会社ハル研究所\\n@HAL_Laboratory\\n·\\nJul 4\\n＼ハル研ブログ\\u3000新記事掲載！／\\n\\n社内のデザイナーたちが自主的に集まって開催する「デッサン会」の様子を、運営を担当する若手デザイナーがご紹介。\\n自分の中にある「既成概念」を取り払う訓練としてデッサンに取り組んでいるのだとか。ぜひご覧ください。\\nハル研究所ウェブサイト｜HAL Laboratory, Inc.\\nFrom hallab.co.jp\\n3\\n102\\n564\\n40K']"
      ]
     },
     "execution_count": 92,
     "metadata": {},
     "output_type": "execute_result"
    }
   ],
   "source": [
    "post_list"
   ]
  },
  {
   "cell_type": "code",
   "execution_count": 56,
   "metadata": {},
   "outputs": [
    {
     "ename": "WebDriverException",
     "evalue": "Message: disconnected: not connected to DevTools\n  (failed to check if window was closed: disconnected: not connected to DevTools)\n  (Session info: headless chrome=116.0.5845.187)\nStacktrace:\n0   chromedriver                        0x000000010899d638 chromedriver + 5002808\n1   chromedriver                        0x0000000108994a53 chromedriver + 4966995\n2   chromedriver                        0x0000000108545a57 chromedriver + 449111\n3   chromedriver                        0x0000000108529450 chromedriver + 332880\n4   chromedriver                        0x0000000108529343 chromedriver + 332611\n5   chromedriver                        0x00000001085476c2 chromedriver + 456386\n6   chromedriver                        0x00000001085cc9a7 chromedriver + 1001895\n7   chromedriver                        0x00000001085b21c3 chromedriver + 893379\n8   chromedriver                        0x000000010857ddf9 chromedriver + 679417\n9   chromedriver                        0x000000010857efde chromedriver + 683998\n10  chromedriver                        0x000000010895a2d9 chromedriver + 4727513\n11  chromedriver                        0x000000010895f2de chromedriver + 4747998\n12  chromedriver                        0x000000010891d2c9 chromedriver + 4477641\n13  chromedriver                        0x000000010896002d chromedriver + 4751405\n14  chromedriver                        0x00000001089330ec chromedriver + 4567276\n15  chromedriver                        0x000000010897d7f8 chromedriver + 4872184\n16  chromedriver                        0x000000010897d9b7 chromedriver + 4872631\n17  chromedriver                        0x000000010898da1f chromedriver + 4938271\n18  libsystem_pthread.dylib             0x00007fff673c62eb _pthread_body + 126\n19  libsystem_pthread.dylib             0x00007fff673c9249 _pthread_start + 66\n20  libsystem_pthread.dylib             0x00007fff673c540d thread_start + 13\n",
     "output_type": "error",
     "traceback": [
      "\u001b[31m---------------------------------------------------------------------------\u001b[39m",
      "\u001b[31mWebDriverException\u001b[39m                        Traceback (most recent call last)",
      "\u001b[36mCell\u001b[39m\u001b[36m \u001b[39m\u001b[32mIn[56]\u001b[39m\u001b[32m, line 1\u001b[39m\n\u001b[32m----> \u001b[39m\u001b[32m1\u001b[39m \u001b[43mconnect_X\u001b[49m\u001b[43m(\u001b[49m\u001b[43mdriver\u001b[49m\u001b[43m,\u001b[49m\u001b[43m \u001b[49m\u001b[43murl\u001b[49m\u001b[43m)\u001b[49m\n\u001b[32m      2\u001b[39m driver.close()\n",
      "\u001b[36mCell\u001b[39m\u001b[36m \u001b[39m\u001b[32mIn[4]\u001b[39m\u001b[32m, line 5\u001b[39m, in \u001b[36mconnect_X\u001b[39m\u001b[34m(driver, url)\u001b[39m\n\u001b[32m      2\u001b[39m \u001b[38;5;28;01mglobal\u001b[39;00m cookies\n\u001b[32m      4\u001b[39m \u001b[38;5;66;03m#xのアカウント画面にアクセス\u001b[39;00m\n\u001b[32m----> \u001b[39m\u001b[32m5\u001b[39m \u001b[43mdriver\u001b[49m\u001b[43m.\u001b[49m\u001b[43mget\u001b[49m\u001b[43m(\u001b[49m\u001b[43murl\u001b[49m\u001b[43m)\u001b[49m\n\u001b[32m      7\u001b[39m \u001b[38;5;66;03m#cookieを設定して再度アクセス\u001b[39;00m\n\u001b[32m      8\u001b[39m \u001b[38;5;28;01mfor\u001b[39;00m c \u001b[38;5;129;01min\u001b[39;00m cookies:\n",
      "\u001b[36mFile \u001b[39m\u001b[32m~/Desktop/amazon_asin_serch_tool/venv/lib/python3.12/site-packages/selenium/webdriver/remote/webdriver.py:479\u001b[39m, in \u001b[36mWebDriver.get\u001b[39m\u001b[34m(self, url)\u001b[39m\n\u001b[32m    461\u001b[39m \u001b[38;5;28;01mdef\u001b[39;00m\u001b[38;5;250m \u001b[39m\u001b[34mget\u001b[39m(\u001b[38;5;28mself\u001b[39m, url: \u001b[38;5;28mstr\u001b[39m) -> \u001b[38;5;28;01mNone\u001b[39;00m:\n\u001b[32m    462\u001b[39m \u001b[38;5;250m    \u001b[39m\u001b[33;03m\"\"\"Navigate the browser to the specified URL in the current window or\u001b[39;00m\n\u001b[32m    463\u001b[39m \u001b[33;03m    tab.\u001b[39;00m\n\u001b[32m    464\u001b[39m \n\u001b[32m   (...)\u001b[39m\u001b[32m    477\u001b[39m \u001b[33;03m    >>> driver.get(\"https://example.com\")\u001b[39;00m\n\u001b[32m    478\u001b[39m \u001b[33;03m    \"\"\"\u001b[39;00m\n\u001b[32m--> \u001b[39m\u001b[32m479\u001b[39m     \u001b[38;5;28;43mself\u001b[39;49m\u001b[43m.\u001b[49m\u001b[43mexecute\u001b[49m\u001b[43m(\u001b[49m\u001b[43mCommand\u001b[49m\u001b[43m.\u001b[49m\u001b[43mGET\u001b[49m\u001b[43m,\u001b[49m\u001b[43m \u001b[49m\u001b[43m{\u001b[49m\u001b[33;43m\"\u001b[39;49m\u001b[33;43murl\u001b[39;49m\u001b[33;43m\"\u001b[39;49m\u001b[43m:\u001b[49m\u001b[43m \u001b[49m\u001b[43murl\u001b[49m\u001b[43m}\u001b[49m\u001b[43m)\u001b[49m\n",
      "\u001b[36mFile \u001b[39m\u001b[32m~/Desktop/amazon_asin_serch_tool/venv/lib/python3.12/site-packages/selenium/webdriver/remote/webdriver.py:454\u001b[39m, in \u001b[36mWebDriver.execute\u001b[39m\u001b[34m(self, driver_command, params)\u001b[39m\n\u001b[32m    451\u001b[39m response = cast(RemoteConnection, \u001b[38;5;28mself\u001b[39m.command_executor).execute(driver_command, params)\n\u001b[32m    453\u001b[39m \u001b[38;5;28;01mif\u001b[39;00m response:\n\u001b[32m--> \u001b[39m\u001b[32m454\u001b[39m     \u001b[38;5;28;43mself\u001b[39;49m\u001b[43m.\u001b[49m\u001b[43merror_handler\u001b[49m\u001b[43m.\u001b[49m\u001b[43mcheck_response\u001b[49m\u001b[43m(\u001b[49m\u001b[43mresponse\u001b[49m\u001b[43m)\u001b[49m\n\u001b[32m    455\u001b[39m     response[\u001b[33m\"\u001b[39m\u001b[33mvalue\u001b[39m\u001b[33m\"\u001b[39m] = \u001b[38;5;28mself\u001b[39m._unwrap_value(response.get(\u001b[33m\"\u001b[39m\u001b[33mvalue\u001b[39m\u001b[33m\"\u001b[39m, \u001b[38;5;28;01mNone\u001b[39;00m))\n\u001b[32m    456\u001b[39m     \u001b[38;5;28;01mreturn\u001b[39;00m response\n",
      "\u001b[36mFile \u001b[39m\u001b[32m~/Desktop/amazon_asin_serch_tool/venv/lib/python3.12/site-packages/selenium/webdriver/remote/errorhandler.py:232\u001b[39m, in \u001b[36mErrorHandler.check_response\u001b[39m\u001b[34m(self, response)\u001b[39m\n\u001b[32m    230\u001b[39m         alert_text = value[\u001b[33m\"\u001b[39m\u001b[33malert\u001b[39m\u001b[33m\"\u001b[39m].get(\u001b[33m\"\u001b[39m\u001b[33mtext\u001b[39m\u001b[33m\"\u001b[39m)\n\u001b[32m    231\u001b[39m     \u001b[38;5;28;01mraise\u001b[39;00m exception_class(message, screen, stacktrace, alert_text)  \u001b[38;5;66;03m# type: ignore[call-arg]  # mypy is not smart enough here\u001b[39;00m\n\u001b[32m--> \u001b[39m\u001b[32m232\u001b[39m \u001b[38;5;28;01mraise\u001b[39;00m exception_class(message, screen, stacktrace)\n",
      "\u001b[31mWebDriverException\u001b[39m: Message: disconnected: not connected to DevTools\n  (failed to check if window was closed: disconnected: not connected to DevTools)\n  (Session info: headless chrome=116.0.5845.187)\nStacktrace:\n0   chromedriver                        0x000000010899d638 chromedriver + 5002808\n1   chromedriver                        0x0000000108994a53 chromedriver + 4966995\n2   chromedriver                        0x0000000108545a57 chromedriver + 449111\n3   chromedriver                        0x0000000108529450 chromedriver + 332880\n4   chromedriver                        0x0000000108529343 chromedriver + 332611\n5   chromedriver                        0x00000001085476c2 chromedriver + 456386\n6   chromedriver                        0x00000001085cc9a7 chromedriver + 1001895\n7   chromedriver                        0x00000001085b21c3 chromedriver + 893379\n8   chromedriver                        0x000000010857ddf9 chromedriver + 679417\n9   chromedriver                        0x000000010857efde chromedriver + 683998\n10  chromedriver                        0x000000010895a2d9 chromedriver + 4727513\n11  chromedriver                        0x000000010895f2de chromedriver + 4747998\n12  chromedriver                        0x000000010891d2c9 chromedriver + 4477641\n13  chromedriver                        0x000000010896002d chromedriver + 4751405\n14  chromedriver                        0x00000001089330ec chromedriver + 4567276\n15  chromedriver                        0x000000010897d7f8 chromedriver + 4872184\n16  chromedriver                        0x000000010897d9b7 chromedriver + 4872631\n17  chromedriver                        0x000000010898da1f chromedriver + 4938271\n18  libsystem_pthread.dylib             0x00007fff673c62eb _pthread_body + 126\n19  libsystem_pthread.dylib             0x00007fff673c9249 _pthread_start + 66\n20  libsystem_pthread.dylib             0x00007fff673c540d thread_start + 13\n"
     ]
    }
   ],
   "source": [
    "connect_X(driver, url)\n",
    "driver.close()"
   ]
  },
  {
   "cell_type": "code",
   "execution_count": 324,
   "metadata": {},
   "outputs": [
    {
     "name": "stdout",
     "output_type": "stream",
     "text": [
      "入力画面待機中です\n",
      "メールアドレス確認画面待機中です\n",
      "パスワード画面に遷移します\n",
      "パスワード画面待機中です\n"
     ]
    }
   ],
   "source": [
    "login()"
   ]
  },
  {
   "cell_type": "code",
   "execution_count": 335,
   "metadata": {},
   "outputs": [
    {
     "ename": "InvalidSessionIdException",
     "evalue": "Message: invalid session id; For documentation on this error, please visit: https://www.selenium.dev/documentation/webdriver/troubleshooting/errors#invalidsessionidexception\nStacktrace:\n0   chromedriver                        0x000000010cbf9638 chromedriver + 5002808\n1   chromedriver                        0x000000010cbf0a53 chromedriver + 4966995\n2   chromedriver                        0x000000010c7a1896 chromedriver + 448662\n3   chromedriver                        0x000000010c7d9446 chromedriver + 676934\n4   chromedriver                        0x000000010c80e2f6 chromedriver + 893686\n5   chromedriver                        0x000000010c80a002 chromedriver + 876546\n6   chromedriver                        0x000000010c809590 chromedriver + 873872\n7   chromedriver                        0x000000010c76906a chromedriver + 217194\n8   chromedriver                        0x000000010cbb62d9 chromedriver + 4727513\n9   chromedriver                        0x000000010cbbb2de chromedriver + 4747998\n10  chromedriver                        0x000000010cb792c9 chromedriver + 4477641\n11  chromedriver                        0x000000010cbbc02d chromedriver + 4751405\n12  chromedriver                        0x000000010cb8f0ec chromedriver + 4567276\n13  chromedriver                        0x000000010c767a9a chromedriver + 211610\n14  libdyld.dylib                       0x00007fff584e33d5 start + 1\n15  ???                                 0x0000000000000002 0x0 + 2\n",
     "output_type": "error",
     "traceback": [
      "\u001b[31m---------------------------------------------------------------------------\u001b[39m",
      "\u001b[31mInvalidSessionIdException\u001b[39m                 Traceback (most recent call last)",
      "\u001b[36mCell\u001b[39m\u001b[36m \u001b[39m\u001b[32mIn[335]\u001b[39m\u001b[32m, line 1\u001b[39m\n\u001b[32m----> \u001b[39m\u001b[32m1\u001b[39m \u001b[43mdriver\u001b[49m\u001b[43m.\u001b[49m\u001b[43mclose\u001b[49m\u001b[43m(\u001b[49m\u001b[43m)\u001b[49m\n",
      "\u001b[36mFile \u001b[39m\u001b[32m~/Desktop/amazon_asin_serch_tool/venv/lib/python3.12/site-packages/selenium/webdriver/remote/webdriver.py:602\u001b[39m, in \u001b[36mWebDriver.close\u001b[39m\u001b[34m(self)\u001b[39m\n\u001b[32m    595\u001b[39m \u001b[38;5;28;01mdef\u001b[39;00m\u001b[38;5;250m \u001b[39m\u001b[34mclose\u001b[39m(\u001b[38;5;28mself\u001b[39m) -> \u001b[38;5;28;01mNone\u001b[39;00m:\n\u001b[32m    596\u001b[39m \u001b[38;5;250m    \u001b[39m\u001b[33;03m\"\"\"Closes the current window.\u001b[39;00m\n\u001b[32m    597\u001b[39m \n\u001b[32m    598\u001b[39m \u001b[33;03m    Example:\u001b[39;00m\n\u001b[32m    599\u001b[39m \u001b[33;03m    --------\u001b[39;00m\n\u001b[32m    600\u001b[39m \u001b[33;03m    >>> driver.close()\u001b[39;00m\n\u001b[32m    601\u001b[39m \u001b[33;03m    \"\"\"\u001b[39;00m\n\u001b[32m--> \u001b[39m\u001b[32m602\u001b[39m     \u001b[38;5;28;43mself\u001b[39;49m\u001b[43m.\u001b[49m\u001b[43mexecute\u001b[49m\u001b[43m(\u001b[49m\u001b[43mCommand\u001b[49m\u001b[43m.\u001b[49m\u001b[43mCLOSE\u001b[49m\u001b[43m)\u001b[49m\n",
      "\u001b[36mFile \u001b[39m\u001b[32m~/Desktop/amazon_asin_serch_tool/venv/lib/python3.12/site-packages/selenium/webdriver/remote/webdriver.py:454\u001b[39m, in \u001b[36mWebDriver.execute\u001b[39m\u001b[34m(self, driver_command, params)\u001b[39m\n\u001b[32m    451\u001b[39m response = cast(RemoteConnection, \u001b[38;5;28mself\u001b[39m.command_executor).execute(driver_command, params)\n\u001b[32m    453\u001b[39m \u001b[38;5;28;01mif\u001b[39;00m response:\n\u001b[32m--> \u001b[39m\u001b[32m454\u001b[39m     \u001b[38;5;28;43mself\u001b[39;49m\u001b[43m.\u001b[49m\u001b[43merror_handler\u001b[49m\u001b[43m.\u001b[49m\u001b[43mcheck_response\u001b[49m\u001b[43m(\u001b[49m\u001b[43mresponse\u001b[49m\u001b[43m)\u001b[49m\n\u001b[32m    455\u001b[39m     response[\u001b[33m\"\u001b[39m\u001b[33mvalue\u001b[39m\u001b[33m\"\u001b[39m] = \u001b[38;5;28mself\u001b[39m._unwrap_value(response.get(\u001b[33m\"\u001b[39m\u001b[33mvalue\u001b[39m\u001b[33m\"\u001b[39m, \u001b[38;5;28;01mNone\u001b[39;00m))\n\u001b[32m    456\u001b[39m     \u001b[38;5;28;01mreturn\u001b[39;00m response\n",
      "\u001b[36mFile \u001b[39m\u001b[32m~/Desktop/amazon_asin_serch_tool/venv/lib/python3.12/site-packages/selenium/webdriver/remote/errorhandler.py:232\u001b[39m, in \u001b[36mErrorHandler.check_response\u001b[39m\u001b[34m(self, response)\u001b[39m\n\u001b[32m    230\u001b[39m         alert_text = value[\u001b[33m\"\u001b[39m\u001b[33malert\u001b[39m\u001b[33m\"\u001b[39m].get(\u001b[33m\"\u001b[39m\u001b[33mtext\u001b[39m\u001b[33m\"\u001b[39m)\n\u001b[32m    231\u001b[39m     \u001b[38;5;28;01mraise\u001b[39;00m exception_class(message, screen, stacktrace, alert_text)  \u001b[38;5;66;03m# type: ignore[call-arg]  # mypy is not smart enough here\u001b[39;00m\n\u001b[32m--> \u001b[39m\u001b[32m232\u001b[39m \u001b[38;5;28;01mraise\u001b[39;00m exception_class(message, screen, stacktrace)\n",
      "\u001b[31mInvalidSessionIdException\u001b[39m: Message: invalid session id; For documentation on this error, please visit: https://www.selenium.dev/documentation/webdriver/troubleshooting/errors#invalidsessionidexception\nStacktrace:\n0   chromedriver                        0x000000010cbf9638 chromedriver + 5002808\n1   chromedriver                        0x000000010cbf0a53 chromedriver + 4966995\n2   chromedriver                        0x000000010c7a1896 chromedriver + 448662\n3   chromedriver                        0x000000010c7d9446 chromedriver + 676934\n4   chromedriver                        0x000000010c80e2f6 chromedriver + 893686\n5   chromedriver                        0x000000010c80a002 chromedriver + 876546\n6   chromedriver                        0x000000010c809590 chromedriver + 873872\n7   chromedriver                        0x000000010c76906a chromedriver + 217194\n8   chromedriver                        0x000000010cbb62d9 chromedriver + 4727513\n9   chromedriver                        0x000000010cbbb2de chromedriver + 4747998\n10  chromedriver                        0x000000010cb792c9 chromedriver + 4477641\n11  chromedriver                        0x000000010cbbc02d chromedriver + 4751405\n12  chromedriver                        0x000000010cb8f0ec chromedriver + 4567276\n13  chromedriver                        0x000000010c767a9a chromedriver + 211610\n14  libdyld.dylib                       0x00007fff584e33d5 start + 1\n15  ???                                 0x0000000000000002 0x0 + 2\n"
     ]
    }
   ],
   "source": []
  },
  {
   "cell_type": "code",
   "execution_count": null,
   "metadata": {},
   "outputs": [],
   "source": []
  }
 ],
 "metadata": {
  "kernelspec": {
   "display_name": "venv",
   "language": "python",
   "name": "python3"
  },
  "language_info": {
   "codemirror_mode": {
    "name": "ipython",
    "version": 3
   },
   "file_extension": ".py",
   "mimetype": "text/x-python",
   "name": "python",
   "nbconvert_exporter": "python",
   "pygments_lexer": "ipython3",
   "version": "3.12.3"
  }
 },
 "nbformat": 4,
 "nbformat_minor": 2
}
