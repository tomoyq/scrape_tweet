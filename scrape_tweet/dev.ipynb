{
 "cells": [
  {
   "cell_type": "code",
   "execution_count": 1,
   "metadata": {},
   "outputs": [],
   "source": [
    "from selenium import webdriver\n",
    "from selenium.webdriver.common.keys import Keys\n",
    "from selenium.webdriver.common.by import By\n",
    "from selenium.webdriver.support.ui import WebDriverWait\n",
    "from selenium.webdriver.support import expected_conditions as EC\n",
    "from selenium.webdriver.chrome.options import Options\n",
    "from selenium.common.exceptions import NoSuchElementException\n",
    "from dateutil.relativedelta import relativedelta\n",
    "import config\n",
    "import datetime\n",
    "import os\n",
    "import pickle\n",
    "import pyperclip\n",
    "import time"
   ]
  },
  {
   "cell_type": "code",
   "execution_count": 2,
   "metadata": {},
   "outputs": [],
   "source": [
    "USER_AGENT = 'Mozilla/5.0 (Windows NT 10.0; Win64; x64) AppleWebKit/537.36 (KHTML, like Gecko) Chrome/138.0.0.0 Safari/537.36'\n",
    "LOGIN_URL = 'https://x.com/login'\n",
    "#EXECUTABLE_PATH = config.EXECUTABLE_PATH\n",
    "\n",
    "# Chromeオプションの設定\n",
    "chrome_options = Options()\n",
    "chrome_options.add_argument('--disable-popup-blocking')  # ポップアップブロック\n",
    "chrome_options.add_argument('--headless')\n",
    "chrome_options.add_argument('--no-sandbox')\n",
    "chrome_options.add_argument('--user-agent=%s' % USER_AGENT)\n",
    "chrome_options.add_argument('--window-size=1920,1080')\n",
    "\n",
    "pyperclip.set_clipboard('xclip')"
   ]
  },
  {
   "cell_type": "code",
   "execution_count": 3,
   "metadata": {},
   "outputs": [],
   "source": [
    "def login():\n",
    "    global LOGIN_URL\n",
    "\n",
    "    username = input('usernameを入力してください:')\n",
    "    password = input('passwordを入力してください:')\n",
    "\n",
    "    driver = webdriver.Chrome(options=chrome_options)\n",
    "\n",
    "    #xのログイン画面にアクセス\n",
    "    driver.get(LOGIN_URL)\n",
    "\n",
    "    #名前入力画面が出現するまでロードを待つ\n",
    "    print('入力画面待機中です')\n",
    "    try:\n",
    "        WebDriverWait(driver, 30).until(\n",
    "            EC.element_to_be_clickable((By.TAG_NAME, 'input'))\n",
    "        ).send_keys(f'{username}')\n",
    "        driver.find_element(By.XPATH, '//button[2]').click()\n",
    "    except Exception:\n",
    "        print('入力画面をロード中にエラーが発生しました')\n",
    "        driver.save_screenshot('username-input-connection-errors.png')\n",
    "\n",
    "    #メールアドレス確認画面が出現するまでロードを待つ\n",
    "    print('メールアドレス確認画面待機中です')\n",
    "    try:\n",
    "        mailadress_input = WebDriverWait(driver, 30).until(\n",
    "            EC.element_to_be_clickable((By.TAG_NAME, 'input'))\n",
    "        )\n",
    "        mailadress = input('メールアドレスを入力してください：')\n",
    "        mailadress_input.send_keys(mailadress)\n",
    "        mailadress_input.send_keys(Keys.ENTER)\n",
    "    except Exception:\n",
    "        print('パスワード画面に遷移します')\n",
    "        pass\n",
    "\n",
    "    #パスワード入力画面が出現するまでロードを待つ\n",
    "    print('パスワード画面待機中です')\n",
    "    try:\n",
    "        password_input = WebDriverWait(driver, 30).until(\n",
    "            EC.element_to_be_clickable((By.NAME, 'password'))\n",
    "        )\n",
    "        password_input.send_keys(f'{password}')\n",
    "        password_input.send_keys(Keys.ENTER)\n",
    "    except Exception:\n",
    "        print('パスワード画面をロード中にエラーが発生しました')\n",
    "        driver.save_screenshot('password-connection-errors.png')\n",
    "\n",
    "    #cookieを取得して保存する\n",
    "    time.sleep(10)\n",
    "    cookies = driver.get_cookies()\n",
    "\n",
    "    with open('cookies', 'wb') as f:\n",
    "        pickle.dump(cookies, f)\n",
    "\n",
    "    print('ログインしました')\n",
    "    driver.quit()"
   ]
  },
  {
   "cell_type": "code",
   "execution_count": 4,
   "metadata": {},
   "outputs": [],
   "source": [
    "def connect_X(driver, url):\n",
    "    global cookies\n",
    "\n",
    "    #xのアカウント画面にアクセス\n",
    "    driver.get(url)\n",
    "\n",
    "    #cookieを設定して再度アクセス\n",
    "    for c in cookies:\n",
    "        driver.add_cookie(c)\n",
    "    driver.get(url)\n",
    "\n",
    "    #投稿内容が出現するまでロードを待つ\n",
    "    print('待機中です')\n",
    "    try:\n",
    "        wait = WebDriverWait(driver, 30)\n",
    "        wait.until(EC.presence_of_all_elements_located)\n",
    "    except Exception:\n",
    "        print('ロード中にエラーが発生しました')\n",
    "        driver.save_screenshot('connection-errors.png')\n",
    "    \n",
    "    #body要素を取得\n",
    "    body = driver.find_element(By.ID, 'react-root')\n",
    "\n",
    "    return body"
   ]
  },
  {
   "cell_type": "code",
   "execution_count": 5,
   "metadata": {},
   "outputs": [],
   "source": [
    "def get_tweet_id(driver, dom):\n",
    "    driver.set_permissions('clipboard-write', 'granted')\n",
    "    driver.set_permissions('clipboard-read', 'granted')\n",
    "\n",
    "    #リンクをコピーする\n",
    "    dom.find_elements(By.TAG_NAME, 'button')[-1].click()\n",
    "    time.sleep(1)\n",
    "    driver.find_elements(By.CSS_SELECTOR, \"[role='menuitem']\")[0].click()\n",
    "    time.sleep(2)\n",
    "\n",
    "    #コピーしたリンクを返す\n",
    "    return driver.execute_script('return window.navigator.clipboard.readText()')"
   ]
  },
  {
   "cell_type": "code",
   "execution_count": 61,
   "metadata": {},
   "outputs": [],
   "source": [
    "def fetch_posts(driver, url, i: int = 1):\n",
    "    global target_date\n",
    "\n",
    "    body = connect_X(driver, url)\n",
    "    \n",
    "    post_list = []\n",
    "\n",
    "    #スクロールさせる幅(初めは0)\n",
    "    y = 0\n",
    "\n",
    "    #今日の日付からdateで渡された日数分の投稿を取得\n",
    "    while True:\n",
    "        print(f'index:{i} の投稿を取得します')\n",
    "\n",
    "        #投稿の中に埋め込まれているtimeタグを取得\n",
    "        try:\n",
    "            WebDriverWait(driver, 20).until(\n",
    "                    EC.presence_of_element_located((By.XPATH, f'//section/div/div/div[{i}]'))\n",
    "                )\n",
    "            post_dom = body.find_element(By.XPATH, f'//section/div/div/div[{i}]')\n",
    "            post_text = post_dom.text.splitlines()\n",
    "            \n",
    "        #取得できない場合はスクロールを行なってdom上に表示させる\n",
    "        except Exception:\n",
    "            print(f'index:{i} の投稿はdom上に存在しません')\n",
    "\n",
    "            #スクロール先のy座標\n",
    "            y += 100\n",
    "            print(y)\n",
    "            # スクロールして投稿を読み込むまで待機\n",
    "            driver.execute_script(f'window.scrollTo({{top: {y}, behavior: \"smooth\",}});') \n",
    "            \n",
    "\n",
    "            print('投稿を読み込んでいます')\n",
    "            WebDriverWait(driver, 20).until(\n",
    "                EC.presence_of_element_located((By.XPATH, f'//section/div/div/div[{i}]'))\n",
    "            )\n",
    "            continue\n",
    "\n",
    "        #投稿の中のtimeタグを取得してtarget_dateよりも新しい日付か確認する\n",
    "        try:\n",
    "            time = post_dom.find_element(By.TAG_NAME, 'time').get_attribute('datetime')\n",
    "            \n",
    "            s_format = '%Y-%m-%dT%H:%M:%S.000Z'\n",
    "            dt_time = datetime.datetime.strptime(time, s_format)\n",
    "\n",
    "        #取得できない場合は投稿以外の要素を取得しているためループを回す\n",
    "        except:\n",
    "            i += 1\n",
    "            continue\n",
    "        break\n",
    "    style = post_dom.get_attribute('style')\n",
    "    return style\n",
    "\n",
    "    #     #ピン留された投稿、もしくはリポストの場合はループを回す\n",
    "    #     if post_text[0] == 'Pinned' or 'reposted' in post_text[0]:\n",
    "    #         i += 1\n",
    "    #         continue\n",
    "    #     #新しい投稿の場合はpost_listに内容を追加する\n",
    "    #     elif target_date < dt_time:\n",
    "    #         link = get_tweet_id(driver, post_dom)\n",
    "\n",
    "    #         post_list.append({\n",
    "    #             'content': post_text,\n",
    "    #             'link': link\n",
    "    #             })\n",
    "    #         i += 1\n",
    "    #         continue\n",
    "        \n",
    "    #     #投稿は日付順になっており、target_dateよりも古い場合これ以上新しい投稿はないと判断してループから抜ける\n",
    "    #     else:\n",
    "    #         print('指定された期間の投稿の取得に成功しました。')\n",
    "    #         driver.close()\n",
    "    #         break\n",
    "            \n",
    "    # return post_list"
   ]
  },
  {
   "cell_type": "code",
   "execution_count": 44,
   "metadata": {},
   "outputs": [],
   "source": [
    "def calculate_target_date(mode: str, number_of_date: str):\n",
    "    try:\n",
    "        int_number_of_date = int(number_of_date)\n",
    "    except:\n",
    "        #入力された日数が数字でないためエラー発生\n",
    "        #再度入力をもらい再帰実行\n",
    "        mode, period = input('''入力をやり直してください。\\n\n",
    "                             遡る期間数は数字で入力してください。:''').split()\n",
    "        calculate_target_date(mode, period)\n",
    "\n",
    "    today = datetime.datetime.today()\n",
    "    \n",
    "    match mode:\n",
    "        #日数で遡る\n",
    "        case 'd' | 'D':\n",
    "            target_date = today - datetime.timedelta(days=int_number_of_date)\n",
    "            return target_date\n",
    "        \n",
    "        #週数で遡る\n",
    "        case 'w' | 'W':\n",
    "            target_date = today - datetime.timedelta(weeks=int_number_of_date)\n",
    "            return target_date\n",
    "        \n",
    "        #月数で遡る\n",
    "        case 'm' | 'M':\n",
    "            target_date = today - relativedelta(months=int_number_of_date)\n",
    "            return target_date\n",
    "        \n",
    "        #いずれの文字にもマッチしない場合は再度入力を受け取る\n",
    "        case _:\n",
    "            mode, period = input('''入力をやり直してください。\\n\n",
    "                             遡る間隔は日数(D)、週数(W)、月数(M)から選び、アルファベットで入力してください:''').split()\n",
    "            calculate_target_date(mode, period)"
   ]
  },
  {
   "cell_type": "code",
   "execution_count": 45,
   "metadata": {},
   "outputs": [],
   "source": [
    "#cookiesファイルがなければログイン関数を実行してcookieを取得する\n",
    "if os.path.isfile('cookies') != True:\n",
    "    cookies = login()\n",
    "#ファイルがあればcookieを読み込む\n",
    "else:\n",
    "    with open ('cookies', 'rb') as f:\n",
    "        cookies = pickle.load(f)"
   ]
  },
  {
   "cell_type": "code",
   "execution_count": 62,
   "metadata": {},
   "outputs": [],
   "source": [
    "driver = webdriver.Chrome(options=chrome_options)\n",
    "driver.execute_script('const newProto = navigator.__proto__;delete newProto.webdriver;navigator.__proto__ = newProto;')\n",
    "\n",
    "# 指定した要素が見つかるまでの待ち時間を設定する 今回は最大10秒待機する\n",
    "driver.implicitly_wait(10)\n",
    "\n",
    "#検索するアカウント\n",
    "target = 'HAL_Laboratory'\n",
    "\n",
    "url = f'https://x.com/{target}/'"
   ]
  },
  {
   "cell_type": "code",
   "execution_count": 63,
   "metadata": {},
   "outputs": [
    {
     "name": "stdout",
     "output_type": "stream",
     "text": [
      "待機中です\n",
      "index:1 の投稿を取得します\n",
      "index:2 の投稿を取得します\n"
     ]
    }
   ],
   "source": [
    "mode, period = input('''遡る間隔と遡る期間数を入力してください。\\n\n",
    "                     間隔は日数(D)、週数(W)、月数(M)で遡ることができます。\\n\n",
    "                     入力例(日数で遡って、最新から2日前までの投稿を取得する場合):D 2''').split()    \n",
    "\n",
    "target_date = calculate_target_date(mode, period)\n",
    "post_list = fetch_posts(driver, url)"
   ]
  },
  {
   "cell_type": "code",
   "execution_count": 64,
   "metadata": {},
   "outputs": [
    {
     "data": {
      "text/plain": [
       "'transform: translateY(500px); position: absolute; width: 100%;'"
      ]
     },
     "execution_count": 64,
     "metadata": {},
     "output_type": "execute_result"
    }
   ],
   "source": [
    "post_list"
   ]
  },
  {
   "cell_type": "code",
   "execution_count": 103,
   "metadata": {},
   "outputs": [
    {
     "name": "stdout",
     "output_type": "stream",
     "text": [
      "window.scrollTo({top: 0, behavior: \"smooth\",});\n"
     ]
    }
   ],
   "source": [
    "y = 0\n",
    "print(f'window.scrollTo({{top: {y}, behavior: \"smooth\",}});')"
   ]
  },
  {
   "cell_type": "code",
   "execution_count": null,
   "metadata": {},
   "outputs": [],
   "source": []
  }
 ],
 "metadata": {
  "kernelspec": {
   "display_name": "Python 3",
   "language": "python",
   "name": "python3"
  },
  "language_info": {
   "codemirror_mode": {
    "name": "ipython",
    "version": 3
   },
   "file_extension": ".py",
   "mimetype": "text/x-python",
   "name": "python",
   "nbconvert_exporter": "python",
   "pygments_lexer": "ipython3",
   "version": "3.10.18"
  }
 },
 "nbformat": 4,
 "nbformat_minor": 2
}
